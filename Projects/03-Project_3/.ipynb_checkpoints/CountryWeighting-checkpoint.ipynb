{
 "cells": [
  {
   "cell_type": "code",
   "execution_count": 1,
   "metadata": {},
   "outputs": [],
   "source": [
    "%run EconIndicatorsTraining.ipynb"
   ]
  },
  {
   "cell_type": "code",
   "execution_count": 2,
   "metadata": {},
   "outputs": [
    {
     "name": "stdout",
     "output_type": "stream",
     "text": [
      "Retrying API call for: GDP in 10 seconds.\n",
      "Retrying API call for: GDP in 10 seconds.\n",
      "Retrying API call for: GDP in 10 seconds.\n",
      "Retrying API call for: CPI in 10 seconds.\n",
      "Retrying API call for: UEM in 10 seconds.\n"
     ]
    }
   ],
   "source": [
    "features_df = getFeatures()\n",
    "model, results, mse_score = trainEconLinearRegresion(features_df)"
   ]
  },
  {
   "cell_type": "code",
   "execution_count": 3,
   "metadata": {},
   "outputs": [
    {
     "name": "stdout",
     "output_type": "stream",
     "text": [
      "Retrying API call for: GDC in 10 seconds.\n",
      "Retrying API call for: CPI in 10 seconds.\n"
     ]
    }
   ],
   "source": [
    "recent_data = getAllIndicators(full_country_basket)\n",
    "recent_data_norm = relativeStrength(recent_data, False)\n",
    "\n",
    "predictions_df = pd.DataFrame(\n",
    "    data = model.predict(recent_data_norm), \n",
    "    index = recent_data_norm.index, \n",
    "    columns=[\"Predicted Volatility\"])"
   ]
  },
  {
   "cell_type": "code",
   "execution_count": 4,
   "metadata": {},
   "outputs": [],
   "source": [
    "def getWeights(volatility_df, cut_off = 0.75):\n",
    "    \"\"\"\n",
    "    Returns the weighting recommendation for the selected % most stable currencies.\n",
    "    \"\"\"\n",
    "    # Subtracting out the volatility at the selected % mark. All values less than 0 are set to 0\n",
    "    volatility_df[\"InvWt\"] = volatility_df[\"Predicted Volatility\"].quantile(cut_off) - volatility_df[\"Predicted Volatility\"]\n",
    "    volatility_df.loc[volatility_df[\"InvWt\"] < 0, \"InvWt\"] = 0\n",
    "    \n",
    "    volatility_df[\"Basket Weight\"] = volatility_df[\"InvWt\"]/volatility_df[\"InvWt\"].sum()\n",
    "    \n",
    "    weights_df = volatility_df.drop(columns = [\"Predicted Volatility\", \"InvWt\"])\n",
    "    \n",
    "    return weights_df"
   ]
  },
  {
   "cell_type": "code",
   "execution_count": 10,
   "metadata": {},
   "outputs": [
    {
     "data": {
      "text/html": [
       "<div>\n",
       "<style scoped>\n",
       "    .dataframe tbody tr th:only-of-type {\n",
       "        vertical-align: middle;\n",
       "    }\n",
       "\n",
       "    .dataframe tbody tr th {\n",
       "        vertical-align: top;\n",
       "    }\n",
       "\n",
       "    .dataframe thead th {\n",
       "        text-align: right;\n",
       "    }\n",
       "</style>\n",
       "<table border=\"1\" class=\"dataframe\">\n",
       "  <thead>\n",
       "    <tr style=\"text-align: right;\">\n",
       "      <th></th>\n",
       "      <th>Basket Weight</th>\n",
       "    </tr>\n",
       "  </thead>\n",
       "  <tbody>\n",
       "    <tr>\n",
       "      <th>AUS</th>\n",
       "      <td>0.015175</td>\n",
       "    </tr>\n",
       "    <tr>\n",
       "      <th>BRA</th>\n",
       "      <td>0.000000</td>\n",
       "    </tr>\n",
       "    <tr>\n",
       "      <th>CAN</th>\n",
       "      <td>0.000000</td>\n",
       "    </tr>\n",
       "    <tr>\n",
       "      <th>CHE</th>\n",
       "      <td>0.000915</td>\n",
       "    </tr>\n",
       "    <tr>\n",
       "      <th>CHN</th>\n",
       "      <td>0.170506</td>\n",
       "    </tr>\n",
       "    <tr>\n",
       "      <th>EUU</th>\n",
       "      <td>0.095683</td>\n",
       "    </tr>\n",
       "    <tr>\n",
       "      <th>GBR</th>\n",
       "      <td>0.046741</td>\n",
       "    </tr>\n",
       "    <tr>\n",
       "      <th>IND</th>\n",
       "      <td>0.018186</td>\n",
       "    </tr>\n",
       "    <tr>\n",
       "      <th>JPN</th>\n",
       "      <td>0.080943</td>\n",
       "    </tr>\n",
       "    <tr>\n",
       "      <th>KOR</th>\n",
       "      <td>0.082950</td>\n",
       "    </tr>\n",
       "    <tr>\n",
       "      <th>LKA</th>\n",
       "      <td>0.051705</td>\n",
       "    </tr>\n",
       "    <tr>\n",
       "      <th>MEX</th>\n",
       "      <td>0.027101</td>\n",
       "    </tr>\n",
       "    <tr>\n",
       "      <th>MYS</th>\n",
       "      <td>0.131973</td>\n",
       "    </tr>\n",
       "    <tr>\n",
       "      <th>NOR</th>\n",
       "      <td>0.000000</td>\n",
       "    </tr>\n",
       "    <tr>\n",
       "      <th>NZL</th>\n",
       "      <td>0.051907</td>\n",
       "    </tr>\n",
       "    <tr>\n",
       "      <th>SGP</th>\n",
       "      <td>0.014633</td>\n",
       "    </tr>\n",
       "    <tr>\n",
       "      <th>SWE</th>\n",
       "      <td>0.000000</td>\n",
       "    </tr>\n",
       "    <tr>\n",
       "      <th>THA</th>\n",
       "      <td>0.130067</td>\n",
       "    </tr>\n",
       "    <tr>\n",
       "      <th>USA</th>\n",
       "      <td>0.081514</td>\n",
       "    </tr>\n",
       "    <tr>\n",
       "      <th>ZAF</th>\n",
       "      <td>0.000000</td>\n",
       "    </tr>\n",
       "  </tbody>\n",
       "</table>\n",
       "</div>"
      ],
      "text/plain": [
       "     Basket Weight\n",
       "AUS       0.015175\n",
       "BRA       0.000000\n",
       "CAN       0.000000\n",
       "CHE       0.000915\n",
       "CHN       0.170506\n",
       "EUU       0.095683\n",
       "GBR       0.046741\n",
       "IND       0.018186\n",
       "JPN       0.080943\n",
       "KOR       0.082950\n",
       "LKA       0.051705\n",
       "MEX       0.027101\n",
       "MYS       0.131973\n",
       "NOR       0.000000\n",
       "NZL       0.051907\n",
       "SGP       0.014633\n",
       "SWE       0.000000\n",
       "THA       0.130067\n",
       "USA       0.081514\n",
       "ZAF       0.000000"
      ]
     },
     "execution_count": 10,
     "metadata": {},
     "output_type": "execute_result"
    }
   ],
   "source": [
    "test_df = getWeights(predictions_df)\n",
    "test_df"
   ]
  },
  {
   "cell_type": "code",
   "execution_count": null,
   "metadata": {},
   "outputs": [],
   "source": []
  },
  {
   "cell_type": "code",
   "execution_count": null,
   "metadata": {},
   "outputs": [],
   "source": []
  }
 ],
 "metadata": {
  "kernelspec": {
   "display_name": "Python [conda env:pyvizenv] *",
   "language": "python",
   "name": "conda-env-pyvizenv-py"
  },
  "language_info": {
   "codemirror_mode": {
    "name": "ipython",
    "version": 3
   },
   "file_extension": ".py",
   "mimetype": "text/x-python",
   "name": "python",
   "nbconvert_exporter": "python",
   "pygments_lexer": "ipython3",
   "version": "3.7.7"
  }
 },
 "nbformat": 4,
 "nbformat_minor": 4
}
