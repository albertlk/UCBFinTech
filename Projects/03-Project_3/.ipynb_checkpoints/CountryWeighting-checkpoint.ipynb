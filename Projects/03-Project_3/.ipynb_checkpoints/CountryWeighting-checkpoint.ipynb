{
 "cells": [
  {
   "cell_type": "code",
   "execution_count": 1,
   "metadata": {},
   "outputs": [],
   "source": [
    "%run EconIndicatorsTraining.ipynb"
   ]
  },
  {
   "cell_type": "code",
   "execution_count": 2,
   "metadata": {},
   "outputs": [],
   "source": [
    "features_df = getFeatures()\n",
    "model, results, mse_score = trainEconLinearRegresion(features_df)"
   ]
  },
  {
   "cell_type": "code",
   "execution_count": 3,
   "metadata": {},
   "outputs": [],
   "source": [
    "recent_data = getAllIndicators(full_country_basket)\n",
    "recent_data_norm = relativeStrength(recent_data, False)\n",
    "\n",
    "predictions_df = pd.DataFrame(\n",
    "    data = model.predict(recent_data_norm), \n",
    "    index = recent_data_norm.index, \n",
    "    columns=[\"Predicted Volatility\"])"
   ]
  },
  {
   "cell_type": "code",
   "execution_count": 47,
   "metadata": {},
   "outputs": [],
   "source": [
    "def getWeights(volatility_df, cut_off = 0.75):\n",
    "    \"\"\"\n",
    "    Returns the weighting recommendation for the selected % most stable currencies.\n",
    "    \"\"\"\n",
    "    # Subtracting out the volatility at the selected % mark. All values less than 0 are set to 0\n",
    "    volatility_df[\"InvWt\"] = volatility_df[\"Predicted Volatility\"].quantile(cut_off) - volatility_df[\"Predicted Volatility\"]\n",
    "    volatility_df.loc[volatility_df[\"InvWt\"] < 0, \"InvWt\"] = 0\n",
    "    \n",
    "    volatility_df[\"Basket Weight\"] = volatility_df[\"InvWt\"]/volatility_df[\"InvWt\"].sum()\n",
    "    \n",
    "    weights_df = volatility_df.drop(columns = [\"Predicted Volatility\", \"InvWt\"])\n",
    "    \n",
    "    return weights_df"
   ]
  },
  {
   "cell_type": "code",
   "execution_count": null,
   "metadata": {},
   "outputs": [],
   "source": []
  }
 ],
 "metadata": {
  "kernelspec": {
   "display_name": "Python [conda env:pyvizenv] *",
   "language": "python",
   "name": "conda-env-pyvizenv-py"
  },
  "language_info": {
   "codemirror_mode": {
    "name": "ipython",
    "version": 3
   },
   "file_extension": ".py",
   "mimetype": "text/x-python",
   "name": "python",
   "nbconvert_exporter": "python",
   "pygments_lexer": "ipython3",
   "version": "3.7.7"
  }
 },
 "nbformat": 4,
 "nbformat_minor": 4
}
