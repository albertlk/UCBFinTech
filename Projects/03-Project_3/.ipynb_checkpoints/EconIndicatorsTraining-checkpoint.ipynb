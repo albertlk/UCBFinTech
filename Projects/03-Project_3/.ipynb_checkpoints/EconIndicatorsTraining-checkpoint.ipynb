{
 "cells": [
  {
   "cell_type": "code",
   "execution_count": 1,
   "metadata": {},
   "outputs": [],
   "source": [
    "%run EconIndicators.ipynb"
   ]
  },
  {
   "cell_type": "code",
   "execution_count": 2,
   "metadata": {},
   "outputs": [],
   "source": [
    "rename_dict = {\n",
    "    'FRED/DEXUSAL':'AUS',\n",
    "    'FRED/DEXBZUS':'BRA',\n",
    "    'FRED/DEXUSUK':'GBR',\n",
    "    'FRED/DEXCAUS':'CAD',\n",
    "    'FRED/DEXCHUS':'CHN',\n",
    "    'FRED/DEXUSEU':'EUU',\n",
    "    'FRED/DEXINUS':'IND',\n",
    "    'FRED/DEXJPUS':'JPN',\n",
    "    'FRED/DEXMAUS':'MYS', \n",
    "    'FRED/DEXMXUS':'MEX',\n",
    "    'FRED/DEXUSNZ':'NZL', \n",
    "    'FRED/DEXNOUS':'NOR',\n",
    "    'FRED/DEXSIUS':'SGP',\n",
    "    'FRED/DEXSFUS':'ZAF',\n",
    "    'FRED/DEXKOUS':'KOR',\n",
    "    'FRED/DEXSDUS':'SWE',\n",
    "    'FRED/DEXSZUS':'CHE',\n",
    "    'FRED/DEXTHUS':'THB'\n",
    "}"
   ]
  },
  {
   "cell_type": "code",
   "execution_count": 3,
   "metadata": {},
   "outputs": [
    {
     "name": "stdout",
     "output_type": "stream",
     "text": [
      "Retrying API call for: GDP in 10 seconds.\n",
      "Retrying API call for: UEM in 10 seconds.\n"
     ]
    }
   ],
   "source": [
    "# Getting Training Economic Indicators from World Bank (From EconIndicators.ipynb)\n",
    "raw_data = getAllIndicatorsTraining(20, full_country_basket)\n",
    "norm_data = relativeStrength(raw_data)"
   ]
  },
  {
   "cell_type": "code",
   "execution_count": 4,
   "metadata": {},
   "outputs": [],
   "source": [
    "# Reading in annualized volatility data for training\n",
    "avol_csv = pd.read_csv(\"annualized_volatility.csv\", index_col = \"Date\")\n",
    "avol_csv = avol_csv.loc[2000:]\n",
    "avol_csv.rename(columns = rename_dict, inplace = True)\n",
    "avol_csv.drop(columns = ['FRED/DEXDNUS', 'FRED/DEXHKUS', 'FRED/DEXTAUS', 'FRED/DEXVZUS'], inplace = True)\n",
    "#avol_csv.head()"
   ]
  },
  {
   "cell_type": "code",
   "execution_count": 5,
   "metadata": {},
   "outputs": [],
   "source": [
    "# Creating df to match the format of the df provided by EconIndicators\n",
    "avol_dict = {}\n",
    "for country in avol_csv.columns:\n",
    "    for year in avol_csv[country].index:\n",
    "        # Subtracting a year as the previous year's volatility will be predicting the next \n",
    "        avol_dict[country + str(year-1)] = avol_csv[country][year]\n",
    "        \n",
    "avol_df = pd.DataFrame.from_dict(avol_dict, orient = \"index\", columns = [\"Annual Volatility\"])\n",
    "#avol_df.head()"
   ]
  },
  {
   "cell_type": "code",
   "execution_count": 6,
   "metadata": {},
   "outputs": [
    {
     "data": {
      "text/html": [
       "<div>\n",
       "<style scoped>\n",
       "    .dataframe tbody tr th:only-of-type {\n",
       "        vertical-align: middle;\n",
       "    }\n",
       "\n",
       "    .dataframe tbody tr th {\n",
       "        vertical-align: top;\n",
       "    }\n",
       "\n",
       "    .dataframe thead th {\n",
       "        text-align: right;\n",
       "    }\n",
       "</style>\n",
       "<table border=\"1\" class=\"dataframe\">\n",
       "  <thead>\n",
       "    <tr style=\"text-align: right;\">\n",
       "      <th></th>\n",
       "      <th>Year</th>\n",
       "      <th>GDG</th>\n",
       "      <th>CPI</th>\n",
       "      <th>UEM</th>\n",
       "      <th>Rel GDP</th>\n",
       "      <th>Rel GDC</th>\n",
       "      <th>Annual Volatility</th>\n",
       "    </tr>\n",
       "  </thead>\n",
       "  <tbody>\n",
       "    <tr>\n",
       "      <th>ZAF2000</th>\n",
       "      <td>2000</td>\n",
       "      <td>4.200003</td>\n",
       "      <td>5.338952</td>\n",
       "      <td>29.879999</td>\n",
       "      <td>0.018783</td>\n",
       "      <td>0.078699</td>\n",
       "      <td>0.186650</td>\n",
       "    </tr>\n",
       "    <tr>\n",
       "      <th>NOR2000</th>\n",
       "      <td>2000</td>\n",
       "      <td>3.204979</td>\n",
       "      <td>3.085506</td>\n",
       "      <td>3.460000</td>\n",
       "      <td>0.023588</td>\n",
       "      <td>0.989604</td>\n",
       "      <td>0.090269</td>\n",
       "    </tr>\n",
       "    <tr>\n",
       "      <th>IND2000</th>\n",
       "      <td>2000</td>\n",
       "      <td>3.840991</td>\n",
       "      <td>4.009439</td>\n",
       "      <td>2.730000</td>\n",
       "      <td>0.064518</td>\n",
       "      <td>0.011505</td>\n",
       "      <td>0.040950</td>\n",
       "    </tr>\n",
       "    <tr>\n",
       "      <th>SWE2000</th>\n",
       "      <td>2000</td>\n",
       "      <td>4.766349</td>\n",
       "      <td>0.899144</td>\n",
       "      <td>5.470000</td>\n",
       "      <td>0.036204</td>\n",
       "      <td>0.768838</td>\n",
       "      <td>0.115088</td>\n",
       "    </tr>\n",
       "    <tr>\n",
       "      <th>JPN2000</th>\n",
       "      <td>2000</td>\n",
       "      <td>2.779633</td>\n",
       "      <td>-0.676579</td>\n",
       "      <td>4.700000</td>\n",
       "      <td>0.673222</td>\n",
       "      <td>1.000000</td>\n",
       "      <td>0.092698</td>\n",
       "    </tr>\n",
       "  </tbody>\n",
       "</table>\n",
       "</div>"
      ],
      "text/plain": [
       "         Year       GDG       CPI        UEM   Rel GDP   Rel GDC  \\\n",
       "ZAF2000  2000  4.200003  5.338952  29.879999  0.018783  0.078699   \n",
       "NOR2000  2000  3.204979  3.085506   3.460000  0.023588  0.989604   \n",
       "IND2000  2000  3.840991  4.009439   2.730000  0.064518  0.011505   \n",
       "SWE2000  2000  4.766349  0.899144   5.470000  0.036204  0.768838   \n",
       "JPN2000  2000  2.779633 -0.676579   4.700000  0.673222  1.000000   \n",
       "\n",
       "         Annual Volatility  \n",
       "ZAF2000           0.186650  \n",
       "NOR2000           0.090269  \n",
       "IND2000           0.040950  \n",
       "SWE2000           0.115088  \n",
       "JPN2000           0.092698  "
      ]
     },
     "execution_count": 6,
     "metadata": {},
     "output_type": "execute_result"
    }
   ],
   "source": [
    "features_df = pd.concat([norm_data, avol_df], axis = \"columns\", join = \"inner\")\n",
    "features_df.head()"
   ]
  },
  {
   "cell_type": "code",
   "execution_count": null,
   "metadata": {},
   "outputs": [],
   "source": [
    "# @TODO: Linear regression"
   ]
  },
  {
   "cell_type": "code",
   "execution_count": null,
   "metadata": {},
   "outputs": [],
   "source": []
  }
 ],
 "metadata": {
  "kernelspec": {
   "display_name": "Python [conda env:pyvizenv] *",
   "language": "python",
   "name": "conda-env-pyvizenv-py"
  },
  "language_info": {
   "codemirror_mode": {
    "name": "ipython",
    "version": 3
   },
   "file_extension": ".py",
   "mimetype": "text/x-python",
   "name": "python",
   "nbconvert_exporter": "python",
   "pygments_lexer": "ipython3",
   "version": "3.7.7"
  }
 },
 "nbformat": 4,
 "nbformat_minor": 4
}
