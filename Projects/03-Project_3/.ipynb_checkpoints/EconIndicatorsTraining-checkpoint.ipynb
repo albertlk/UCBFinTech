{
 "cells": [
  {
   "cell_type": "code",
   "execution_count": 1,
   "metadata": {},
   "outputs": [],
   "source": [
    "%run EconIndicators.ipynb"
   ]
  },
  {
   "cell_type": "code",
   "execution_count": 2,
   "metadata": {},
   "outputs": [],
   "source": [
    "# Getting Training Economic Indicators from World Bank (From EconIndicators.ipynb)\n",
    "raw_data = getAllIndicatorsTraining(20, full_country_basket)\n",
    "norm_data = relativeStrength(raw_data)"
   ]
  },
  {
   "cell_type": "code",
   "execution_count": 4,
   "metadata": {},
   "outputs": [
    {
     "data": {
      "text/html": [
       "<div>\n",
       "<style scoped>\n",
       "    .dataframe tbody tr th:only-of-type {\n",
       "        vertical-align: middle;\n",
       "    }\n",
       "\n",
       "    .dataframe tbody tr th {\n",
       "        vertical-align: top;\n",
       "    }\n",
       "\n",
       "    .dataframe thead th {\n",
       "        text-align: right;\n",
       "    }\n",
       "</style>\n",
       "<table border=\"1\" class=\"dataframe\">\n",
       "  <thead>\n",
       "    <tr style=\"text-align: right;\">\n",
       "      <th></th>\n",
       "      <th>Year</th>\n",
       "      <th>GDG</th>\n",
       "      <th>CPI</th>\n",
       "      <th>CAB</th>\n",
       "      <th>UEM</th>\n",
       "      <th>Rel GDP</th>\n",
       "      <th>Rel GDC</th>\n",
       "    </tr>\n",
       "  </thead>\n",
       "  <tbody>\n",
       "    <tr>\n",
       "      <th>ZAF2000</th>\n",
       "      <td>2000</td>\n",
       "      <td>4.200003</td>\n",
       "      <td>5.338952</td>\n",
       "      <td>-0.139744</td>\n",
       "      <td>29.879999</td>\n",
       "      <td>0.027900</td>\n",
       "      <td>0.078699</td>\n",
       "    </tr>\n",
       "    <tr>\n",
       "      <th>CHE2000</th>\n",
       "      <td>2000</td>\n",
       "      <td>3.936824</td>\n",
       "      <td>1.558518</td>\n",
       "      <td>11.947450</td>\n",
       "      <td>2.670000</td>\n",
       "      <td>0.055663</td>\n",
       "      <td>0.982775</td>\n",
       "    </tr>\n",
       "    <tr>\n",
       "      <th>CHN2000</th>\n",
       "      <td>2000</td>\n",
       "      <td>8.490093</td>\n",
       "      <td>0.347806</td>\n",
       "      <td>1.693849</td>\n",
       "      <td>3.100000</td>\n",
       "      <td>0.247845</td>\n",
       "      <td>0.024898</td>\n",
       "    </tr>\n",
       "    <tr>\n",
       "      <th>GBR2000</th>\n",
       "      <td>2000</td>\n",
       "      <td>3.437472</td>\n",
       "      <td>1.182956</td>\n",
       "      <td>-2.252531</td>\n",
       "      <td>5.560000</td>\n",
       "      <td>0.339194</td>\n",
       "      <td>0.730557</td>\n",
       "    </tr>\n",
       "    <tr>\n",
       "      <th>IND2000</th>\n",
       "      <td>2000</td>\n",
       "      <td>3.840991</td>\n",
       "      <td>4.009439</td>\n",
       "      <td>-0.982344</td>\n",
       "      <td>2.730000</td>\n",
       "      <td>0.095835</td>\n",
       "      <td>0.011505</td>\n",
       "    </tr>\n",
       "  </tbody>\n",
       "</table>\n",
       "</div>"
      ],
      "text/plain": [
       "         Year       GDG       CPI        CAB        UEM   Rel GDP   Rel GDC\n",
       "ZAF2000  2000  4.200003  5.338952  -0.139744  29.879999  0.027900  0.078699\n",
       "CHE2000  2000  3.936824  1.558518  11.947450   2.670000  0.055663  0.982775\n",
       "CHN2000  2000  8.490093  0.347806   1.693849   3.100000  0.247845  0.024898\n",
       "GBR2000  2000  3.437472  1.182956  -2.252531   5.560000  0.339194  0.730557\n",
       "IND2000  2000  3.840991  4.009439  -0.982344   2.730000  0.095835  0.011505"
      ]
     },
     "execution_count": 4,
     "metadata": {},
     "output_type": "execute_result"
    }
   ],
   "source": [
    "norm_data.head()"
   ]
  },
  {
   "cell_type": "code",
   "execution_count": null,
   "metadata": {},
   "outputs": [],
   "source": []
  }
 ],
 "metadata": {
  "kernelspec": {
   "display_name": "Python [conda env:pyvizenv] *",
   "language": "python",
   "name": "conda-env-pyvizenv-py"
  },
  "language_info": {
   "codemirror_mode": {
    "name": "ipython",
    "version": 3
   },
   "file_extension": ".py",
   "mimetype": "text/x-python",
   "name": "python",
   "nbconvert_exporter": "python",
   "pygments_lexer": "ipython3",
   "version": "3.7.7"
  }
 },
 "nbformat": 4,
 "nbformat_minor": 4
}
