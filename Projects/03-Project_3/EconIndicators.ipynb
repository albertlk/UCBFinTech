{
 "cells": [
  {
   "cell_type": "code",
   "execution_count": 8,
   "metadata": {},
   "outputs": [],
   "source": [
    "# For reading in API Keys\n",
    "import os\n",
    "from dotenv import load_dotenv\n",
    "\n",
    "# For basic analysis\n",
    "import pandas as pd\n",
    "from pathlib import Path\n",
    "import numpy as np\n",
    "\n",
    "# For parsing through JSON dumps from API calls\n",
    "import requests\n",
    "import json"
   ]
  },
  {
   "cell_type": "code",
   "execution_count": 43,
   "metadata": {},
   "outputs": [],
   "source": [
    "wb_api_base = \"http://api.worldbank.org/v2/country/\"\n",
    "\n",
    "# Dictionary of user given indicators with their Corresponding API indicators\n",
    "ind_dict = {\n",
    "    \"GDP\":\"NY.GDP.MKTP.CD\",\n",
    "    \"GDC\":\"NY.GDP.PCAP.CD\",\n",
    "    \"CPI\":\"FP.CPI.TOTL.ZG\",\n",
    "    \"CAB\":\"BN.CAB.XOKA.GD.ZS\",\n",
    "    \"UEM\":\"SL.UEM.TOTL.NE.ZS\"\n",
    "}"
   ]
  },
  {
   "cell_type": "code",
   "execution_count": 60,
   "metadata": {},
   "outputs": [],
   "source": [
    "def getEconIndicators (indicator, country = \"all\"):\n",
    "    \"\"\"\n",
    "    Returns the indicators for the given set of countries as reported by the World Bank\n",
    "    \n",
    "    Countries must be given as their 3-Digit ISO Code (https://countrycode.org/) and in the form of a list\n",
    "    \n",
    "    Indicator must be selected from the following list:\n",
    "    \n",
    "    GDP: Gross Domestic Product\n",
    "    GDC: Gross Domestic Product per Capita\n",
    "    CPI: Inflation as Determined by Consumer Price Index\n",
    "    CAB: Current Account Balance (in USD)\n",
    "    UEM: Unemployment \n",
    "    \"\"\"\n",
    "    \n",
    "    wb_api_url = \"\"\n",
    "\n",
    "    # Validating Indicators\n",
    "    dict_keys = list(ind_dict.keys())\n",
    "    if indicator not in dict_keys:\n",
    "        raise Exception(\"This indicator is not supported.\")\n",
    "    \n",
    "    # Setting indicator into API form\n",
    "    api_ind = \"/indicator/\" + ind_dict[indicator] + \"?mrv=1&per_page=500&format=json\"    \n",
    "    \n",
    "    # Building request URL. If no country was specified, return indicator for all countries\n",
    "    if country == \"all\":\n",
    "        wb_api_url = wb_api_base + country + api_ind\n",
    " \n",
    "    else:     \n",
    "        \n",
    "        wb_api_url = 2\n",
    "    \n",
    "    ind_json = requests.get(wb_api_url).json()\n",
    "    \n",
    "    return req"
   ]
  },
  {
   "cell_type": "code",
   "execution_count": 9,
   "metadata": {},
   "outputs": [
    {
     "data": {
      "text/plain": [
       "'http://api.worldbank.org/v2/country/all/indicator/NY.GDP.MKTP.CD?format=json'"
      ]
     },
     "execution_count": 9,
     "metadata": {},
     "output_type": "execute_result"
    }
   ],
   "source": [
    "\"http://api.worldbank.org/v2/country/all/indicator/NY.GDP.MKTP.CD?format=json\""
   ]
  },
  {
   "cell_type": "code",
   "execution_count": null,
   "metadata": {},
   "outputs": [],
   "source": []
  },
  {
   "cell_type": "code",
   "execution_count": null,
   "metadata": {},
   "outputs": [],
   "source": []
  },
  {
   "cell_type": "code",
   "execution_count": null,
   "metadata": {},
   "outputs": [],
   "source": []
  },
  {
   "cell_type": "code",
   "execution_count": null,
   "metadata": {},
   "outputs": [],
   "source": []
  }
 ],
 "metadata": {
  "kernelspec": {
   "display_name": "Python [conda env:pyvizenv] *",
   "language": "python",
   "name": "conda-env-pyvizenv-py"
  },
  "language_info": {
   "codemirror_mode": {
    "name": "ipython",
    "version": 3
   },
   "file_extension": ".py",
   "mimetype": "text/x-python",
   "name": "python",
   "nbconvert_exporter": "python",
   "pygments_lexer": "ipython3",
   "version": "3.7.7"
  }
 },
 "nbformat": 4,
 "nbformat_minor": 4
}
