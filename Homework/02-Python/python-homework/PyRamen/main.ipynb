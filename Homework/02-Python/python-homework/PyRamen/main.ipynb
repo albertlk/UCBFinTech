{
 "cells": [
  {
   "cell_type": "code",
   "execution_count": 1,
   "metadata": {},
   "outputs": [],
   "source": [
    "# Import libraries\n",
    "import csv\n",
    "from pathlib import Path"
   ]
  },
  {
   "cell_type": "code",
   "execution_count": 2,
   "metadata": {},
   "outputs": [],
   "source": [
    "# Set file paths for menu_data.csv and sales_data.csv\n",
    "menu_filepath = Path('Resources/menu_data.csv')\n",
    "sales_filepath = Path('Resources/sales_data.csv')"
   ]
  },
  {
   "cell_type": "code",
   "execution_count": 3,
   "metadata": {},
   "outputs": [],
   "source": [
    "# Initialize list objects to hold our menu and sales data\n",
    "menu = []\n",
    "sales = []"
   ]
  },
  {
   "cell_type": "code",
   "execution_count": 4,
   "metadata": {},
   "outputs": [],
   "source": [
    "# Read in the menu data into the menu list\n",
    "with open (menu_filepath,'r') as menu_csv:\n",
    "    menu_reader = csv.reader(menu_csv, delimiter = \".\")\n",
    "    mheader = next(menu_reader)\n",
    "    for mrow in menu_reader:\n",
    "        menu.append(mrow)"
   ]
  },
  {
   "cell_type": "code",
   "execution_count": 5,
   "metadata": {},
   "outputs": [],
   "source": [
    "# Read in the sales data into the sales list\n",
    "with open (sales_filepath,'r') as sales_csv:\n",
    "    sales_reader = csv.reader(sales_csv, delimiter = \".\")\n",
    "    sheader = next(sales_reader)\n",
    "    for srow in sales_reader:\n",
    "        sales.append(srow)"
   ]
  },
  {
   "cell_type": "code",
   "execution_count": 6,
   "metadata": {},
   "outputs": [],
   "source": [
    "# Initialize dict object to hold our key-value pairs of items and metrics\n",
    "report = {}\n",
    "\n",
    "# Initialize a row counter variable\n",
    "row_count = 0"
   ]
  },
  {
   "cell_type": "code",
   "execution_count": 9,
   "metadata": {},
   "outputs": [
    {
     "name": "stdout",
     "output_type": "stream",
     "text": [
      "[['1,01-01-2017,7437926611570799,1,spicy miso ramen'], ['2,01-01-2017,7437926611570799,1,spicy miso ramen'], ['3,01-01-2017,8421920068932819,3,tori paitan ramen'], ['4,01-01-2017,8421920068932819,3,tori paitan ramen'], ['5,01-01-2017,4787310681569648,1,truffle butter ramen'], ['6,01-01-2017,4787310681569648,1,truffle butter ramen'], ['7,01-01-2017,8252818705821725,1,tonkotsu ramen'], ['8,01-01-2017,8252818705821725,1,tonkotsu ramen'], ['9,01-01-2017,3119034881407323,1,vegetarian spicy miso'], ['10,01-01-2017,3119034881407323,1,vegetarian spicy miso'], ['11,01-01-2017,5185620052605569,1,shio ramen'], ['12,01-01-2017,5185620052605569,1,shio ramen'], ['13,01-01-2017,1625774198697856,1,tori paitan ramen'], ['14,01-01-2017,1625774198697856,1,tori paitan ramen'], ['15,01-01-2017,505248472056578,1,vegetarian spicy miso'], ['16,01-01-2017,505248472056578,1,vegetarian spicy miso'], ['17,01-01-2017,5010864392617689,1,spicy miso ramen'], ['18,01-01-2017,5010864392617689,1,spicy miso ramen'], ['19,01-01-2017,1792739336416381,2,truffle butter ramen'], ['20,01-01-2017,1792739336416381,2,truffle butter ramen']]\n"
     ]
    }
   ],
   "source": []
  },
  {
   "cell_type": "code",
   "execution_count": null,
   "metadata": {},
   "outputs": [],
   "source": []
  }
 ],
 "metadata": {
  "kernelspec": {
   "display_name": "Python 3",
   "language": "python",
   "name": "python3"
  },
  "language_info": {
   "codemirror_mode": {
    "name": "ipython",
    "version": 3
   },
   "file_extension": ".py",
   "mimetype": "text/x-python",
   "name": "python",
   "nbconvert_exporter": "python",
   "pygments_lexer": "ipython3",
   "version": "3.8.3"
  }
 },
 "nbformat": 4,
 "nbformat_minor": 4
}
