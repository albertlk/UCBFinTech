{
 "cells": [
  {
   "cell_type": "code",
   "execution_count": 1,
   "metadata": {},
   "outputs": [],
   "source": [
    "# Import libraries\n",
    "import csv\n",
    "from pathlib import Path"
   ]
  },
  {
   "cell_type": "code",
   "execution_count": 2,
   "metadata": {},
   "outputs": [],
   "source": [
    "# Set file paths for menu_data.csv and sales_data.csv\n",
    "menu_filepath = Path('Resources/menu_data.csv')\n",
    "sales_filepath = Path('Resources/sales_data.csv')"
   ]
  },
  {
   "cell_type": "code",
   "execution_count": 3,
   "metadata": {},
   "outputs": [],
   "source": [
    "# Initialize list objects to hold our menu and sales data\n",
    "menu = []\n",
    "sales = []"
   ]
  },
  {
   "cell_type": "code",
   "execution_count": 4,
   "metadata": {},
   "outputs": [],
   "source": [
    "# Read in the menu data into the menu list\n",
    "with open (menu_filepath,'r') as menu_csv:\n",
    "    menu_reader = csv.reader(menu_csv, delimiter = \",\")\n",
    "    mheader = next(menu_reader)\n",
    "    for mrow in menu_reader:\n",
    "        menu.append(mrow)"
   ]
  },
  {
   "cell_type": "code",
   "execution_count": 5,
   "metadata": {},
   "outputs": [],
   "source": [
    "# Read in the sales data into the sales list\n",
    "with open (sales_filepath,'r') as sales_csv:\n",
    "    sales_reader = csv.reader(sales_csv, delimiter = \",\")\n",
    "    sheader = next(sales_reader)\n",
    "    for srow in sales_reader:\n",
    "        sales.append(srow)"
   ]
  },
  {
   "cell_type": "code",
   "execution_count": 6,
   "metadata": {},
   "outputs": [],
   "source": [
    "# Initialize dict object to hold our key-value pairs of items and metrics\n",
    "report = {}\n",
    "\n",
    "# Initialize a row counter variable\n",
    "row_count = 0"
   ]
  },
  {
   "cell_type": "code",
   "execution_count": 7,
   "metadata": {},
   "outputs": [],
   "source": [
    "# Loop over every row in the sales list object\n",
    "for sales_row in sales:\n",
    "\n",
    "    # Line_Item_ID,Date,Credit_Card_Number,Quantity,Menu_Item\n",
    "    # Initialize sales data variables\n",
    "    qty = int(sales_row[3])\n",
    "    menu_item = sales_row[4]\n",
    "\n",
    "    # If the item value not in the report, add it as a new entry with initialized metrics\n",
    "    # Naming convention allows the keys to be ordered in logical fashion, count, revenue, cost, profit\n",
    "    if menu_item not in report:\n",
    "        \n",
    "        report[menu_item] = {\"01-count\":0,\n",
    "                            \"02-revenue\":0,\n",
    "                            \"03-cogs\":0,\n",
    "                            \"04-profit\":0}\n",
    "\n",
    "    #For every row in our sales data, loop over the menu records to determine a match\n",
    "    for menu_row in menu:\n",
    "        \n",
    "        # Item,Category,Description,Price,Cost\n",
    "        item = menu_row[0]\n",
    "        price = float(menu_row[3])\n",
    "        cost = float(menu_row[4])\n",
    "\n",
    "        # Calculate profit of each item in the menu data\n",
    "        profit = price - cost\n",
    "        \n",
    "        # If the item value in our sales data is equal to the any of the items in the menu, then begin tracking metrics for that item\n",
    "        if menu_item == item:\n",
    "\n",
    "            # Print out matching menu data\n",
    "            #print(f\"{menu_item} matches {item} on the menu!\")\n",
    "\n",
    "            # Cumulatively add up the metrics for each item key\n",
    "            report[menu_item][\"01-count\"] += qty\n",
    "            report[menu_item][\"02-revenue\"] += price * qty\n",
    "            report[menu_item][\"03-cogs\"] += cost * qty\n",
    "            report[menu_item][\"04-profit\"] += profit * qty\n",
    "             \n",
    "            # Breaking from menu loop once a match has been found\n",
    "            break    \n",
    "\n",
    "        # Else, the sales item does not equal any of the item in the menu data, therefore no match\n",
    "        # else:\n",
    "            #print(f\"{menu_item} does not equal {item}! No Match!\")\n",
    "\n",
    "    # Increment the row counter by 1\n",
    "    row_count += 1"
   ]
  },
  {
   "cell_type": "code",
   "execution_count": 8,
   "metadata": {},
   "outputs": [
    {
     "name": "stdout",
     "output_type": "stream",
     "text": [
      "The total number of records in sales data is: 74124\n"
     ]
    }
   ],
   "source": [
    "# Print total number of records in sales data\n",
    "print(f\"The total number of records in sales data is: {row_count}\")"
   ]
  },
  {
   "cell_type": "code",
   "execution_count": 9,
   "metadata": {},
   "outputs": [],
   "source": [
    "# Write out report to a text file (won't appear on the command line output)\n",
    "# Set file paths for output file\n",
    "report_filepath = Path('report.txt')\n",
    "\n",
    "with open (report_filepath, 'a') as file:\n",
    "    for report_row in report:\n",
    "        file.write(f\"{report_row} {report[report_row]}\\n\")"
   ]
  }
 ],
 "metadata": {
  "kernelspec": {
   "display_name": "Python 3",
   "language": "python",
   "name": "python3"
  },
  "language_info": {
   "codemirror_mode": {
    "name": "ipython",
    "version": 3
   },
   "file_extension": ".py",
   "mimetype": "text/x-python",
   "name": "python",
   "nbconvert_exporter": "python",
   "pygments_lexer": "ipython3",
   "version": "3.8.3"
  }
 },
 "nbformat": 4,
 "nbformat_minor": 4
}
