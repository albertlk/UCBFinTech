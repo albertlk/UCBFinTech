{
 "cells": [
  {
   "cell_type": "code",
   "execution_count": 1,
   "metadata": {},
   "outputs": [],
   "source": [
    "# Importing necessary libraries\n",
    "from pathlib import Path\n",
    "import csv"
   ]
  },
  {
   "cell_type": "code",
   "execution_count": 2,
   "metadata": {},
   "outputs": [],
   "source": [
    "# Writing file path for budget_data.csv\n",
    "csv_path = Path(\"Resources/budget_data.csv\")"
   ]
  },
  {
   "cell_type": "code",
   "execution_count": 3,
   "metadata": {},
   "outputs": [],
   "source": [
    "# Creating list of dictionaries for P&L data\n",
    "pnl_data = []"
   ]
  },
  {
   "cell_type": "code",
   "execution_count": 4,
   "metadata": {},
   "outputs": [],
   "source": [
    "# Reading in data from csv file\n",
    "with open (csv_path,'r') as csv_file:\n",
    "    csv_reader = csv.reader(csv_file, delimiter = \",\")\n",
    "    header = next(csv_reader)\n",
    "    # print(header)\n",
    "    # Saving data in pnl dictionary\n",
    "    for row in csv_reader:\n",
    "        # print(row)\n",
    "        pnl_data.append({header[0]:row[0], header[1]:int(row[1])}) "
   ]
  },
  {
   "cell_type": "code",
   "execution_count": 5,
   "metadata": {},
   "outputs": [],
   "source": [
    "# Initializing variables\n",
    "\n",
    "months = 0\n",
    "net_total = 0\n",
    "change = 0\n",
    "large_inc = 0\n",
    "large_inc_date = \"\"\n",
    "large_dec = 0\n",
    "large_dec_date = \"\"\n",
    "prev_pnl = 0"
   ]
  },
  {
   "cell_type": "code",
   "execution_count": 6,
   "metadata": {},
   "outputs": [],
   "source": [
    "# Iterating through pnl_data to find above metrics\n",
    "for entry in pnl_data:\n",
    "    # This month's data\n",
    "    pnl = entry[\"Profit/Losses\"]\n",
    "    date = entry[\"Date\"]\n",
    "    delta = pnl - prev_pnl\n",
    "    \n",
    "    # Calculating the change in profit and loss\n",
    "    if months == 0:\n",
    "        change = 0\n",
    "    else:\n",
    "        change += delta\n",
    "\n",
    "    # Checking to see if it is the largest increase or largest decrease\n",
    "    if delta > large_inc:\n",
    "        large_inc = delta\n",
    "        large_inc_date = date\n",
    "    elif delta < large_dec:\n",
    "        large_dec = delta\n",
    "        large_dec_date = date\n",
    "    \n",
    "    # Incrementing variables\n",
    "    months += 1\n",
    "    net_total += pnl\n",
    "    prev_pnl = pnl"
   ]
  },
  {
   "cell_type": "code",
   "execution_count": 7,
   "metadata": {},
   "outputs": [],
   "source": [
    "# Defining output path\n",
    "csv_out = Path(\"PnL_Summary.txt\")"
   ]
  },
  {
   "cell_type": "code",
   "execution_count": 8,
   "metadata": {},
   "outputs": [
    {
     "name": "stdout",
     "output_type": "stream",
     "text": [
      "Financial Analysis\n",
      "------------------------------\n",
      "Total Months: 86\n",
      "Total: $38382578\n",
      "Average Change: $-2315.12\n",
      "Greatest Increase in Profits: Feb-2012 $1926159\n",
      "Greatest Decrease in Profits: Sep-2013 $-2196167\n"
     ]
    }
   ],
   "source": [
    "# Writing to txt and printing to terminal\n",
    "with open (csv_out, 'a') as file:\n",
    "    print(\"Financial Analysis\")\n",
    "    file.write(\"Financial Analysis\\n\")\n",
    "    \n",
    "    print(\"-\"*30)\n",
    "    file.write(\"-\"*30)\n",
    "    file.write(\"\\n\")\n",
    "    \n",
    "    print(f\"Total Months: {months}\")\n",
    "    file.write(f\"Total Months: {months}\\n\")\n",
    "    \n",
    "    print(f\"Total: ${net_total}\")\n",
    "    file.write(f\"Total: ${net_total}\\n\")\n",
    "    \n",
    "    avg_change = round(change/(months-1),2)\n",
    "    print(f\"Average Change: ${avg_change}\")\n",
    "    file.write(f\"Average Change: ${avg_change}\\n\")\n",
    "    \n",
    "    print(f\"Greatest Increase in Profits: {large_inc_date} ${large_inc}\")\n",
    "    file.write(f\"Greatest Increase in Profits: {large_inc_date} ${large_inc}\\n\")\n",
    "    \n",
    "    print(f\"Greatest Decrease in Profits: {large_dec_date} ${large_dec}\")\n",
    "    file.write(f\"Greatest Decrease in Profits: {large_dec_date} ${large_dec}\\n\")"
   ]
  }
 ],
 "metadata": {
  "kernelspec": {
   "display_name": "Python 3",
   "language": "python",
   "name": "python3"
  },
  "language_info": {
   "codemirror_mode": {
    "name": "ipython",
    "version": 3
   },
   "file_extension": ".py",
   "mimetype": "text/x-python",
   "name": "python",
   "nbconvert_exporter": "python",
   "pygments_lexer": "ipython3",
   "version": "3.8.3"
  }
 },
 "nbformat": 4,
 "nbformat_minor": 4
}
